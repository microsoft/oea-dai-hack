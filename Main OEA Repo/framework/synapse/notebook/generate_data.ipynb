{
  "cells": [
    {
      "cell_type": "code",
      "source": [
        "%run OEA_py"
      ],
      "outputs": [],
      "execution_count": null,
      "metadata": {
        "jupyter": {
          "source_hidden": false,
          "outputs_hidden": false
        },
        "nteract": {
          "transient": {
            "deleting": false
          }
        },
        "collapsed": true
      }
    },
    {
      "cell_type": "code",
      "source": [
        "%run M365DataGenerator_py"
      ],
      "outputs": [],
      "execution_count": null,
      "metadata": {}
    },
    {
      "cell_type": "code",
      "source": [
        "oea = OEA()\r\n",
        "oea.rm_if_exists(oea.stage1np + '/generated/m365_test')\r\n",
        "oea.rm_if_exists(oea.stage1np + '/generated/contoso_sis_test')\r\n",
        "data_generator = M365DataGenerator(activity_max_per_person=15)\r\n",
        "data_lake_writer = DataLakeWriter(oea.stage1np)\r\n",
        "data_generator.generate_data(num_of_schools=2, writer=data_lake_writer)\r\n"
      ],
      "outputs": [],
      "execution_count": null,
      "metadata": {
        "jupyter": {
          "source_hidden": false,
          "outputs_hidden": false
        },
        "nteract": {
          "transient": {
            "deleting": false
          }
        },
        "collapsed": true
      }
    },
    {
      "cell_type": "code",
      "source": [
        "pdf = oea.load_sample_from_csv_file('generated/m365/Activity0p2.csv', header=False)\r\n",
        "print(pdf)\r\n"
      ],
      "outputs": [],
      "execution_count": null,
      "metadata": {
        "jupyter": {
          "source_hidden": false,
          "outputs_hidden": false
        },
        "nteract": {
          "transient": {
            "deleting": false
          }
        },
        "collapsed": true
      }
    }
  ],
  "metadata": {
    "kernelspec": {
      "name": "synapse_pyspark",
      "language": "Python",
      "display_name": "Synapse PySpark"
    },
    "language_info": {
      "name": "python"
    },
    "kernel_info": {
      "name": "synapse_pyspark"
    },
    "save_output": true,
    "synapse_widget": {
      "version": "0.1",
      "state": {}
    }
  },
  "nbformat": 4,
  "nbformat_minor": 2
}