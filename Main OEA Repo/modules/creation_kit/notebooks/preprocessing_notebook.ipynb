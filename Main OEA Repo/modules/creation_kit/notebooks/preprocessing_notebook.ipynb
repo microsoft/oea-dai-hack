{
  "nbformat": 4,
  "nbformat_minor": 2,
  "cells": [
    {
      "cell_type": "markdown",
      "source": [
        "# Sample Notebook\r\n",
        "\r\n",
        "Brief description of the purpose of the notebook."
      ],
      "metadata": {
        "nteract": {
          "transient": {
            "deleting": false
          }
        }
      }
    },
    {
      "cell_type": "markdown",
      "source": [
        "### Provision Storage Accounts\r\n",
        "\r\n",
        "The storage account variable has to be changed to the name of the storage account associated with your Azure resource group."
      ],
      "metadata": {}
    },
    {
      "cell_type": "code",
      "execution_count": null,
      "source": [],
      "outputs": [],
      "metadata": {}
    },
    {
      "cell_type": "markdown",
      "source": [
        "N.B: All the steps below (loading raw data from the lake, preprocessing and aggregating, writing back to the lake and loading to the SparkDB) have to repeated for each new table you will be creating."
      ],
      "metadata": {}
    },
    {
      "cell_type": "markdown",
      "source": [
        "## Table Name\r\n",
        "Description of table\r\n",
        "\r\n",
        "**Databases and tables used:**\r\n",
        "\r\n",
        "List of databases and tables used.\r\n",
        "\r\n",
        "**Databases and tables created:**\r\n",
        "\r\n",
        "List of databases and tables created."
      ],
      "metadata": {}
    },
    {
      "cell_type": "code",
      "execution_count": null,
      "source": [],
      "outputs": [],
      "metadata": {}
    },
    {
      "cell_type": "markdown",
      "source": [
        "### Load Raw Data from Lake\r\n",
        "\r\n",
        "To ensure that that the right tables are loaded, confirm that the file paths match your data lake storage containers."
      ],
      "metadata": {}
    },
    {
      "cell_type": "code",
      "execution_count": null,
      "source": [],
      "outputs": [],
      "metadata": {}
    },
    {
      "cell_type": "markdown",
      "source": [
        "### Preprocessing and Aggregation\r\n",
        "\r\n",
        "All the various stages in transforming, aggregating, exploring and enriching the data."
      ],
      "metadata": {}
    },
    {
      "cell_type": "code",
      "execution_count": null,
      "source": [],
      "outputs": [],
      "metadata": {}
    },
    {
      "cell_type": "markdown",
      "source": [
        "### Write Data Back to Lake\r\n",
        "\r\n",
        "After all preprocessing and aggregations steps are complete, write back the data to the data lake."
      ],
      "metadata": {}
    },
    {
      "cell_type": "code",
      "execution_count": null,
      "source": [],
      "outputs": [],
      "metadata": {}
    },
    {
      "cell_type": "markdown",
      "source": [
        "### Load to Spark DB\r\n",
        "\r\n",
        "Load the data from the data lake into the Spark DB for connection to PowerBI and easier querying."
      ],
      "metadata": {}
    },
    {
      "cell_type": "code",
      "execution_count": null,
      "source": [],
      "outputs": [],
      "metadata": {}
    }
  ],
  "metadata": {
    "save_output": true,
    "kernelspec": {
      "name": "synapse_pyspark",
      "display_name": "python"
    },
    "language_info": {
      "name": "python"
    },
    "synapse_widget": {
      "version": "0.1",
      "state": {}
    }
  }
}