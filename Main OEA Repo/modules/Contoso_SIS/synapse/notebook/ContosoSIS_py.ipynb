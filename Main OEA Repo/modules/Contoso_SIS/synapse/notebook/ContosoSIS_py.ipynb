{
  "nbformat": 4,
  "nbformat_minor": 2,
  "cells": [
    {
      "cell_type": "code",
      "execution_count": null,
      "outputs": [],
      "metadata": {},
      "source": [
        "class ContosoSIS(BaseOEAModule):\r\n",
        "    def __init__(self, oea, source_folder='contoso_sis', pseudonymize = True):\r\n",
        "        BaseOEAModule.__init__(self, oea, source_folder, pseudonymize)\r\n",
        "        self.schemas['studentattendance'] = [['id', 'string', 'no-op'],\r\n",
        "                                            ['student_id', 'string', 'hash-no-lookup'],\r\n",
        "                                            ['school_year', 'integer', 'no-op'],\r\n",
        "                                            ['school_id', 'string', 'no-op'],\r\n",
        "                                            ['attendance_date', 'timestamp', 'no-op'],\r\n",
        "                                            ['all_day', 'string', 'no-op'],\r\n",
        "                                            ['Period', 'short', 'no-op'],\r\n",
        "                                            ['section_id', 'string', 'no-op'],\r\n",
        "                                            ['AttendanceCode', 'string', 'no-op'],\r\n",
        "                                            ['PresenceFlag', 'boolean', 'no-op'],\r\n",
        "                                            ['attendance_status', 'string', 'no-op'],\r\n",
        "                                            ['attendance_type', 'string', 'no-op'],\r\n",
        "                                            ['attendance_sequence', 'short', 'no-op']]\r\n",
        "\r\n",
        "        self.schemas['studentsectionmark'] = [['id', 'string', 'no-op'],\r\n",
        "                                            ['student_id', 'string', 'hash-no-lookup'],\r\n",
        "                                            ['section_id', 'string', 'no-op'],\r\n",
        "                                            ['school_year', 'string', 'no-op'],\r\n",
        "                                            ['term_id', 'string', 'no-op'],\r\n",
        "                                            ['numeric_grade_earned', 'short', 'no-op'],\r\n",
        "                                            ['alpha_grade_earned', 'string', 'no-op'],\r\n",
        "                                            ['is_final_grade', 'string', 'no-op'],\r\n",
        "                                            ['credits_attempted', 'short', 'no-op'],\r\n",
        "                                            ['credits_earned', 'short', 'no-op'],\r\n",
        "                                            ['grad_credit_type', 'string', 'no-op']]\r\n",
        "                                            \r\n",
        "    def process_data_from_stage1(self):\r\n",
        "        self._process_entity_from_stage1('studentattendance', 'csv', 'overwrite', 'true')\r\n",
        "        self._process_entity_from_stage1('studentsectionmark', 'csv', 'overwrite', 'true')\r\n",
        "\r\n",
        "    def copy_test_data_to_stage1(self):\r\n",
        "        mssparkutils.fs.cp(self.module_path + '/test_data/studentattendance.csv', self.stage1np + '/studentattendance/studentattendance.csv', True)\r\n",
        "        mssparkutils.fs.cp(self.module_path + '/test_data/studentsectionmark.csv', self.stage1np + '/studentsectionmark/studentsectionmark.csv', True)"
      ]
    }
  ],
  "metadata": {
    "save_output": true,
    "kernelspec": {
      "name": "synapse_pyspark",
      "display_name": "python"
    },
    "language_info": {
      "name": "python"
    }
  }
}