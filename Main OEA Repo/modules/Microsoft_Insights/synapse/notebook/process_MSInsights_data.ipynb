{
  "cells": [
    {
      "cell_type": "markdown",
      "source": [
        "# Process MS Insights\r\n",
        "This notebook utilizes the OEA framework and the MSInsights module to process data from the MSInsights data share.\r\n",
        "\r\n",
        "See [MS Insights module](https://github.com/microsoft/OpenEduAnalytics/blob/main/modules/Microsoft_Insights) for more details."
      ],
      "metadata": {
        "nteract": {
          "transient": {
            "deleting": false
          }
        }
      }
    },
    {
      "cell_type": "code",
      "source": [
        "%run /OEA_py"
      ],
      "outputs": [],
      "execution_count": null,
      "metadata": {
        "jupyter": {
          "source_hidden": false,
          "outputs_hidden": false
        },
        "nteract": {
          "transient": {
            "deleting": false
          }
        },
        "collapsed": true
      }
    },
    {
      "cell_type": "code",
      "source": [
        "%run /MSInsights_py"
      ],
      "outputs": [],
      "execution_count": null,
      "metadata": {
        "jupyter": {
          "source_hidden": false,
          "outputs_hidden": false
        },
        "nteract": {
          "transient": {
            "deleting": false
          }
        },
        "collapsed": true
      }
    },
    {
      "cell_type": "code",
      "source": [
        "# 0) Initialize the OEA framework and MSInsights module.\r\n",
        "oea = OEA()\r\n",
        "ms_insights = MSInsights(oea, source_folder='ms_insights')\r\n",
        "\r\n",
        "# Uncomment the following line if you want to copy test data in, for testing purposes.\r\n",
        "#mssparkutils.fs.cp(oea.framework_path + '/modules/Microsoft_Insights/test_data', ms_insights.stage1np, True)"
      ],
      "outputs": [],
      "execution_count": null,
      "metadata": {
        "jupyter": {
          "source_hidden": false,
          "outputs_hidden": false
        },
        "nteract": {
          "transient": {
            "deleting": false
          }
        },
        "collapsed": true
      }
    },
    {
      "cell_type": "code",
      "source": [
        "# 1) Process the raw data (csv format) from stage1 into stage2 (adds schema details and writes out in parquet format).\r\n",
        "ms_insights.process_roster()\r\n",
        "ms_insights.process_activity()\r\n"
      ],
      "outputs": [],
      "execution_count": null,
      "metadata": {
        "jupyter": {
          "source_hidden": false,
          "outputs_hidden": false
        },
        "nteract": {
          "transient": {
            "deleting": false
          }
        },
        "collapsed": true
      }
    },
    {
      "cell_type": "code",
      "source": [
        "# 2) Create spark db's that point to the data in the data lake to allow for connecting via Power BI through use of the Serverless SQL endpoint.\r\n",
        "ms_insights.create_stage2_db()"
      ],
      "outputs": [],
      "execution_count": null,
      "metadata": {
        "jupyter": {
          "source_hidden": false,
          "outputs_hidden": false
        },
        "nteract": {
          "transient": {
            "deleting": false
          }
        }
      }
    },
    {
      "cell_type": "markdown",
      "source": [
        "# Reset everything\r\n",
        "You can uncomment line 12 in the cell below and run the cell to reset everything and walk through the process again from the top.\r\n",
        "\r\n",
        "Note: remember to comment out line 11 again to prevent accidental deletion"
      ],
      "metadata": {
        "nteract": {
          "transient": {
            "deleting": false
          }
        }
      }
    },
    {
      "cell_type": "code",
      "source": [
        "def reset_all_processing():\r\n",
        "    oea.rm_if_exists(ms_insights.stage1np)\r\n",
        "    oea.rm_if_exists(ms_insights.stage2np)\r\n",
        "    oea.rm_if_exists(ms_insights.stage2p)\r\n",
        "    oea.rm_if_exists(ms_insights.stage3np)\r\n",
        "    oea.rm_if_exists(ms_insights.stage3p)   \r\n",
        "    oea.drop_db('s2_ms_insights')\r\n",
        "\r\n",
        "\r\n",
        "# Uncomment the following line and run this cell to reset everything if you want to walk through the process again.\r\n",
        "# Be careful with this - data deleted from the data lake cannot be recovered. If you delete processed data, you can always run the processing again, but if you delete raw data it's gone.\r\n",
        "#reset_all_processing()"
      ],
      "outputs": [],
      "execution_count": null,
      "metadata": {
        "jupyter": {
          "source_hidden": false,
          "outputs_hidden": false
        },
        "nteract": {
          "transient": {
            "deleting": false
          }
        },
        "collapsed": true
      }
    }
  ],
  "metadata": {
    "kernelspec": {
      "name": "synapse_pyspark",
      "display_name": "Synapse PySpark"
    },
    "language_info": {
      "name": "python"
    },
    "save_output": true,
    "synapse_widget": {
      "version": "0.1",
      "state": {}
    }
  },
  "nbformat": 4,
  "nbformat_minor": 2
}